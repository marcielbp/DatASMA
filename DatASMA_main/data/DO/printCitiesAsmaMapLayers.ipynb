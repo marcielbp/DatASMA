{
 "cells": [
  {
   "cell_type": "code",
   "execution_count": 76,
   "metadata": {},
   "outputs": [],
   "source": [
    "import pandas as pd\n",
    "import numpy as np\n",
    "import folium\n",
    "import folium.plugins as plugins\n",
    "import matplotlib.pyplot as plt\n",
    "import geopandas as gpd\n",
    "import seaborn as sns\n",
    "import time\n",
    "import os\n",
    "import re\n",
    "import fileinput\n",
    "import matplotlib.pyplot as plt\n",
    "from matplotlib.colors import rgb2hex\n",
    "from folium.plugins import Search\n",
    "import matplotlib"
   ]
  },
  {
   "cell_type": "code",
   "execution_count": 77,
   "metadata": {},
   "outputs": [],
   "source": [
    "fp = \"SHAPES/municipios_simp.json\"\n",
    "cidadesBR = pd.read_csv(\"csv/muniBR-ALL.csv\",delimiter=',')\n",
    "dataSet = pd.read_csv(\"csv/OB_DATA_2016.csv\",sep=\",\",low_memory=False)\n",
    "dataFrameBase = pd.DataFrame(dataSet, columns = ['CODMUNRES','IDADE','CAUSABAS'])\n"
   ]
  },
  {
   "cell_type": "code",
   "execution_count": 78,
   "metadata": {},
   "outputs": [],
   "source": [
    "onlyAsma = dataFrameBase[dataFrameBase['CAUSABAS'].str.contains('J45')]#doencas respiratorias"
   ]
  },
  {
   "cell_type": "code",
   "execution_count": null,
   "metadata": {
    "scrolled": true
   },
   "outputs": [],
   "source": [
    "onlyAsma"
   ]
  },
  {
   "cell_type": "code",
   "execution_count": 79,
   "metadata": {},
   "outputs": [],
   "source": [
    "otherDisease = dataFrameBase[dataFrameBase['CAUSABAS'].str.contains('J')]#doencas respiratorias"
   ]
  },
  {
   "cell_type": "code",
   "execution_count": null,
   "metadata": {
    "scrolled": true
   },
   "outputs": [],
   "source": [
    "otherDisease"
   ]
  },
  {
   "cell_type": "code",
   "execution_count": 80,
   "metadata": {},
   "outputs": [],
   "source": [
    "data = gpd.read_file(fp)"
   ]
  },
  {
   "cell_type": "code",
   "execution_count": null,
   "metadata": {
    "scrolled": true
   },
   "outputs": [],
   "source": [
    "data"
   ]
  },
  {
   "cell_type": "code",
   "execution_count": 81,
   "metadata": {},
   "outputs": [],
   "source": [
    "data['OB_ASMA']=0\n",
    "data['OB_RESP']=0\n",
    "data['POPULACAO']=10000 #debug\n",
    "data['OB_ASMA_POP']=0\n",
    "data['OB_RESP_POP']=0"
   ]
  },
  {
   "cell_type": "code",
   "execution_count": 82,
   "metadata": {},
   "outputs": [],
   "source": []
  },
  {
   "cell_type": "code",
   "execution_count": 83,
   "metadata": {},
   "outputs": [],
   "source": [
    "numCities = len(cidadesBR)\n",
    "for i in range(0,numCities):\n",
    "\tcodMun=cidadesBR.iloc[i, 1]\n",
    "\tpopMun=cidadesBR.iloc[i, 3]\n",
    "\tdata.loc[data.GEOCODIGO.str.contains(str(codMun)), 'POPULACAO'] =popMun\n",
    "\n",
    "values = onlyAsma['CODMUNRES'].value_counts().keys().tolist()\n",
    "counts = onlyAsma['CODMUNRES'].value_counts().tolist()\n",
    "numCounts = len(counts)"
   ]
  },
  {
   "cell_type": "code",
   "execution_count": 84,
   "metadata": {},
   "outputs": [],
   "source": [
    "mapa = folium.Map(location=[-15.788497,-47.879873],tiles='Mapbox Bright', zoom_start=4)"
   ]
  },
  {
   "cell_type": "code",
   "execution_count": null,
   "metadata": {},
   "outputs": [],
   "source": [
    "for i in range(0,numCounts):\n",
    "\tdata.OB_ASMA.loc[data.GEOCODIGO.str.contains(str(values[i]))]=counts[i]\n",
    "\t#folium.Marker(location=[-15.788497,-47.879873], popup=Popup(counts[i])).add_to(mapa)\n",
    "data.loc['OB_ASMA_POP']=round(100000*data['OB_ASMA']/data['POPULACAO'])"
   ]
  },
  {
   "cell_type": "code",
   "execution_count": 86,
   "metadata": {},
   "outputs": [],
   "source": [
    "valuesD = otherDisease['CODMUNRES'].value_counts().keys().tolist()\n",
    "countsD = otherDisease['CODMUNRES'].value_counts().tolist()\n",
    "numCountsD = len(countsD)"
   ]
  },
  {
   "cell_type": "code",
   "execution_count": 88,
   "metadata": {},
   "outputs": [
    {
     "name": "stderr",
     "output_type": "stream",
     "text": [
      "/home/marciel/.local/lib/python3.6/site-packages/ipykernel_launcher.py:2: SettingWithCopyWarning: \n",
      "A value is trying to be set on a copy of a slice from a DataFrame\n",
      "\n",
      "See the caveats in the documentation: http://pandas.pydata.org/pandas-docs/stable/indexing.html#indexing-view-versus-copy\n",
      "  \n"
     ]
    }
   ],
   "source": [
    "for i in range(0,numCountsD):\n",
    "    data.OB_RESP.loc[data.GEOCODIGO.str.contains(str(valuesD[i]))]=countsD[i]\n",
    "    #folium.Marker(location=[-15.788497,-47.879873], popup=Popup(counts[i])).add_to(mapa)\n",
    "data.loc['OB_RESP_POP']=round(100000*data['OB_RESP']/data['POPULACAO'])"
   ]
  },
  {
   "cell_type": "code",
   "execution_count": 137,
   "metadata": {},
   "outputs": [],
   "source": [
    "data['OB_RESP_POP']=round(100000*data['OB_RESP']/data['POPULACAO'],1)\n",
    "data['OB_ASMA_POP']=round(100000*data['OB_ASMA']/data['POPULACAO'],1)"
   ]
  },
  {
   "cell_type": "code",
   "execution_count": 138,
   "metadata": {},
   "outputs": [
    {
     "data": {
      "text/plain": [
       "0        87.1\n",
       "1        56.4\n",
       "2        23.9\n",
       "3        58.5\n",
       "4        68.4\n",
       "5         4.9\n",
       "6       106.6\n",
       "7        85.9\n",
       "8       122.8\n",
       "9       107.5\n",
       "10       82.4\n",
       "11       83.5\n",
       "12       85.3\n",
       "13       52.9\n",
       "14       40.3\n",
       "15       35.0\n",
       "16       53.3\n",
       "17       12.8\n",
       "18      100.1\n",
       "19       81.7\n",
       "20       53.7\n",
       "21       44.0\n",
       "22      121.7\n",
       "23      125.7\n",
       "24       46.7\n",
       "25       42.7\n",
       "26       68.4\n",
       "27       86.9\n",
       "28      109.8\n",
       "29       33.8\n",
       "        ...  \n",
       "5540    153.8\n",
       "5541    121.3\n",
       "5542     97.4\n",
       "5543    150.3\n",
       "5544     33.0\n",
       "5545    204.6\n",
       "5546    115.4\n",
       "5547     97.7\n",
       "5548    101.1\n",
       "5549     81.2\n",
       "5550     36.6\n",
       "5551    103.3\n",
       "5552     82.4\n",
       "5553    146.2\n",
       "5554    130.8\n",
       "5555    115.8\n",
       "5556    170.4\n",
       "5557     34.2\n",
       "5558    192.7\n",
       "5559    136.5\n",
       "5560     45.5\n",
       "5561    332.9\n",
       "5562    129.4\n",
       "5563      0.0\n",
       "5564    140.6\n",
       "5565     98.8\n",
       "5566    137.4\n",
       "5567    177.7\n",
       "5568    143.2\n",
       "5569     50.7\n",
       "Name: OB_RESP_POP, Length: 5570, dtype: float64"
      ]
     },
     "execution_count": 138,
     "metadata": {},
     "output_type": "execute_result"
    }
   ],
   "source": [
    "round(data['OB_RESP_POP'],1)"
   ]
  },
  {
   "cell_type": "code",
   "execution_count": 136,
   "metadata": {},
   "outputs": [
    {
     "data": {
      "text/plain": [
       "0        0.0\n",
       "1        0.0\n",
       "2        0.0\n",
       "3        0.0\n",
       "4       11.0\n",
       "5        1.0\n",
       "6        0.0\n",
       "7        0.0\n",
       "8        5.0\n",
       "9        0.0\n",
       "10       0.0\n",
       "11       0.0\n",
       "12       0.0\n",
       "13       0.0\n",
       "14       0.0\n",
       "15       0.0\n",
       "16       0.0\n",
       "17       0.0\n",
       "18       9.0\n",
       "19       0.0\n",
       "20       0.0\n",
       "21       0.0\n",
       "22       0.0\n",
       "23       1.0\n",
       "24       0.0\n",
       "25       0.0\n",
       "26       0.0\n",
       "27       0.0\n",
       "28       0.0\n",
       "29       1.0\n",
       "        ... \n",
       "5540    17.0\n",
       "5541     0.0\n",
       "5542    10.0\n",
       "5543     0.0\n",
       "5544     0.0\n",
       "5545     0.0\n",
       "5546     0.0\n",
       "5547     3.0\n",
       "5548     0.0\n",
       "5549     0.0\n",
       "5550     0.0\n",
       "5551     0.0\n",
       "5552     0.0\n",
       "5553     0.0\n",
       "5554     0.0\n",
       "5555     0.0\n",
       "5556     0.0\n",
       "5557     0.0\n",
       "5558    16.0\n",
       "5559     1.0\n",
       "5560     0.0\n",
       "5561     0.0\n",
       "5562     0.0\n",
       "5563     0.0\n",
       "5564     0.0\n",
       "5565     0.0\n",
       "5566     1.0\n",
       "5567     0.0\n",
       "5568     0.0\n",
       "5569     0.0\n",
       "Name: OB_ASMA_POP, Length: 5570, dtype: float64"
      ]
     },
     "execution_count": 136,
     "metadata": {},
     "output_type": "execute_result"
    }
   ],
   "source": [
    "round(data['OB_ASMA_POP'],1)"
   ]
  },
  {
   "cell_type": "code",
   "execution_count": 191,
   "metadata": {},
   "outputs": [],
   "source": [
    "fmap= folium.Map(location=[-20,-40], \n",
    "                    zoom_start=5,\n",
    "                    tiles='cartodbpositron',\n",
    "                    control_scale=True)\n"
   ]
  },
  {
   "cell_type": "code",
   "execution_count": 170,
   "metadata": {},
   "outputs": [],
   "source": [
    "\n",
    "data['RGBA'] = 0\n",
    "data['RGBA_RESP'] = 0"
   ]
  },
  {
   "cell_type": "code",
   "execution_count": 189,
   "metadata": {},
   "outputs": [],
   "source": [
    "ColorMapOB = plt.get_cmap('OrRd',12)\n",
    "rgba_asma =  ColorMapOB((data['OB_ASMA_POP'] ** 2 / (1 + data['OB_ASMA_POP'] ** 2)))"
   ]
  },
  {
   "cell_type": "code",
   "execution_count": 190,
   "metadata": {},
   "outputs": [],
   "source": [
    "ColorMapOB = plt.get_cmap('OrRd',12)\n",
    "rgba_resp =  ColorMapOB((data['OB_RESP_POP'] ** 2 / (1 + data['OB_RESP_POP'] ** 2)))"
   ]
  },
  {
   "cell_type": "code",
   "execution_count": 152,
   "metadata": {},
   "outputs": [
    {
     "name": "stdout",
     "output_type": "stream",
     "text": [
      "<matplotlib.colors.ListedColormap object at 0x7ff56bdc9828>\n"
     ]
    },
    {
     "data": {
      "text/plain": [
       "(0.143343, 0.522773, 0.556295, 1.0)"
      ]
     },
     "execution_count": 152,
     "metadata": {},
     "output_type": "execute_result"
    }
   ],
   "source": []
  },
  {
   "cell_type": "code",
   "execution_count": 155,
   "metadata": {},
   "outputs": [
    {
     "data": {
      "text/plain": [
       "array([[0.2298057 , 0.29871797, 0.75368315, 1.        ],\n",
       "       [0.2298057 , 0.29871797, 0.75368315, 1.        ],\n",
       "       [0.2298057 , 0.29871797, 0.75368315, 1.        ],\n",
       "       ...,\n",
       "       [0.2298057 , 0.29871797, 0.75368315, 1.        ],\n",
       "       [0.2298057 , 0.29871797, 0.75368315, 1.        ],\n",
       "       [0.2298057 , 0.29871797, 0.75368315, 1.        ]])"
      ]
     },
     "execution_count": 155,
     "metadata": {},
     "output_type": "execute_result"
    }
   ],
   "source": [
    "rgba_asma"
   ]
  },
  {
   "cell_type": "code",
   "execution_count": 192,
   "metadata": {},
   "outputs": [],
   "source": [
    "data['RGBA'] = rgba_asma\n",
    "data['RGBA_RESP'] = rgba_resp"
   ]
  },
  {
   "cell_type": "code",
   "execution_count": 162,
   "metadata": {},
   "outputs": [
    {
     "data": {
      "text/plain": [
       "0.2298057"
      ]
     },
     "execution_count": 162,
     "metadata": {},
     "output_type": "execute_result"
    }
   ],
   "source": [
    "data.loc[0,'RGBA']"
   ]
  },
  {
   "cell_type": "code",
   "execution_count": 193,
   "metadata": {},
   "outputs": [],
   "source": [
    "#rgb2hex(Blues(data['RGBA'][1]))\n",
    "#rgb2hex(Blues(data['RGBA']))\n",
    "#for i in range(0,numCities):\n",
    "for i in range(0,numCities):\n",
    "    data.loc[i,'RGBA'] = matplotlib.colors.to_hex(rgba_asma[i])\n",
    "    data.loc[i,'RGBA_RESP'] = matplotlib.colors.to_hex(rgba_resp[i])"
   ]
  },
  {
   "cell_type": "code",
   "execution_count": null,
   "metadata": {},
   "outputs": [],
   "source": []
  },
  {
   "cell_type": "markdown",
   "metadata": {},
   "source": []
  },
  {
   "cell_type": "code",
   "execution_count": 194,
   "metadata": {},
   "outputs": [
    {
     "data": {
      "text/plain": [
       "<folium.map.FeatureGroup at 0x7ff55d60cc50>"
      ]
     },
     "execution_count": 194,
     "metadata": {},
     "output_type": "execute_result"
    }
   ],
   "source": [
    "asmaGroup = folium.FeatureGroup(name='Taxa de Obitos por asma')\n",
    "asmaMap = folium.GeoJson(\n",
    "        data[['NOME', 'geometry','OB_ASMA_POP','RGBA']].to_json(), \n",
    "        name='Taxa de Obitos por Asma/ 100 mil hab',\n",
    "        show=True,\n",
    "        style_function=lambda feature: {\n",
    "            'fillColor': feature['properties']['RGBA'],\n",
    "            'color': 'white',\n",
    "            'weight': 0,\n",
    "            'fillOpacity':0.5\n",
    "        },   \n",
    "        highlight_function=lambda x: {'weight':1, \n",
    "                                      'color':'black',\n",
    "                                      'fillOpacity':0.9},    \n",
    "        tooltip=folium.features.GeoJsonTooltip(\n",
    "            fields=['NOME','OB_ASMA_POP'],\n",
    "            aliases=['Cidade:','Obitos:'],                              \n",
    "        ),  \n",
    ").add_to(asmaGroup)\n",
    "asmaGroup.add_to(fmap)"
   ]
  },
  {
   "cell_type": "code",
   "execution_count": 195,
   "metadata": {},
   "outputs": [
    {
     "data": {
      "text/plain": [
       "<folium.map.FeatureGroup at 0x7ff55d60cb00>"
      ]
     },
     "execution_count": 195,
     "metadata": {},
     "output_type": "execute_result"
    }
   ],
   "source": [
    "respGroup = folium.FeatureGroup(name='Taxa de Obitos por todas as Doenças Respiratórias')\n",
    "respMap = folium.GeoJson(\n",
    "        data[['NOME', 'geometry','OB_RESP_POP','RGBA_RESP']].to_json(), \n",
    "        name='Taxa de Obitos por outras doencas respiratorias/ 100 mil hab',\n",
    "        show=False,\n",
    "        style_function=lambda feature: {\n",
    "            'fillColor': feature['properties']['RGBA_RESP'],\n",
    "            'color': 'white',\n",
    "            'weight': 0,\n",
    "            'fillOpacity':0.5\n",
    "        },   \n",
    "        highlight_function=lambda x: {'weight':1, \n",
    "                                      'color':'black',\n",
    "                                      'fillOpacity':0.9},    \n",
    "        tooltip=folium.features.GeoJsonTooltip(\n",
    "            fields=['NOME','OB_RESP_POP'],\n",
    "            aliases=['Cidade:','Obitos:'],                              \n",
    "        ),  \n",
    ").add_to(respGroup)\n",
    "respGroup.add_to(fmap)"
   ]
  },
  {
   "cell_type": "code",
   "execution_count": null,
   "metadata": {},
   "outputs": [],
   "source": [
    "\n",
    "\n",
    "\n"
   ]
  },
  {
   "cell_type": "code",
   "execution_count": null,
   "metadata": {},
   "outputs": [],
   "source": [
    "fmap"
   ]
  },
  {
   "cell_type": "code",
   "execution_count": 196,
   "metadata": {},
   "outputs": [],
   "source": [
    "\n",
    "citysearch = Search(\n",
    "    layer=asmaMap,\n",
    "    geom_type='Polygon',\n",
    "    placeholder='Busca Cidade',\n",
    "    collapsed=True,\n",
    "    search_label='NOME'\n",
    ").add_to(fmap)\n"
   ]
  },
  {
   "cell_type": "code",
   "execution_count": 197,
   "metadata": {},
   "outputs": [],
   "source": [
    "folium.LayerControl(collapsed=True).add_to(fmap)\n",
    "fmap.save(\"mapaT.html\") "
   ]
  },
  {
   "cell_type": "code",
   "execution_count": null,
   "metadata": {},
   "outputs": [],
   "source": [
    "# todo https://python-graph-gallery.com/313-bubble-map-with-folium/"
   ]
  },
  {
   "cell_type": "code",
   "execution_count": null,
   "metadata": {},
   "outputs": [],
   "source": [
    "# todo https://python-graph-gallery.com/25-histogram-with-several-variables-seaborn/"
   ]
  },
  {
   "cell_type": "code",
   "execution_count": null,
   "metadata": {},
   "outputs": [],
   "source": [
    "# todo https://python-graph-gallery.com/391-radar-chart-with-several-individuals/\n",
    "# exibir o percentual de obitos por asma por região, IC de 95%"
   ]
  },
  {
   "cell_type": "code",
   "execution_count": null,
   "metadata": {
    "scrolled": true
   },
   "outputs": [],
   "source": [
    "# todo https://python-graph-gallery.com/13-percent-stacked-barplot/\n",
    "# exibir o percentual de obitos por asma por faixa etaria"
   ]
  },
  {
   "cell_type": "code",
   "execution_count": null,
   "metadata": {},
   "outputs": [],
   "source": [
    "# todo https://python-graph-gallery.com/171-basic-venn-diagram-with-3-groups/"
   ]
  },
  {
   "cell_type": "code",
   "execution_count": null,
   "metadata": {},
   "outputs": [],
   "source": []
  },
  {
   "cell_type": "code",
   "execution_count": null,
   "metadata": {},
   "outputs": [],
   "source": []
  },
  {
   "cell_type": "code",
   "execution_count": null,
   "metadata": {},
   "outputs": [],
   "source": []
  }
 ],
 "metadata": {
  "kernelspec": {
   "display_name": "Python 3",
   "language": "python",
   "name": "python3"
  },
  "language_info": {
   "codemirror_mode": {
    "name": "ipython",
    "version": 3
   },
   "file_extension": ".py",
   "mimetype": "text/x-python",
   "name": "python",
   "nbconvert_exporter": "python",
   "pygments_lexer": "ipython3",
   "version": "3.6.7"
  }
 },
 "nbformat": 4,
 "nbformat_minor": 2
}
